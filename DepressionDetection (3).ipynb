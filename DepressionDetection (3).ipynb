{
  "nbformat": 4,
  "nbformat_minor": 0,
  "metadata": {
    "colab": {
      "name": "DepressionDetection.ipynb",
      "provenance": [],
      "collapsed_sections": []
    },
    "kernelspec": {
      "display_name": "Python 3",
      "name": "python3",
      "language": "python"
    }
  },
  "cells": [
    {
      "cell_type": "code",
      "metadata": {
        "id": "iEBAxkRZ-eup"
      },
      "source": [
        "# all imports\n",
        "from os import times\n",
        "import tweepy\n",
        "from textblob import TextBlob\n",
        "import pandas as pd\n",
        "from nltk.stem.wordnet import WordNetLemmatizer\n",
        "from nltk.corpus import twitter_samples, stopwords\n",
        "from nltk.tag import pos_tag\n",
        "from nltk.tokenize import word_tokenize\n",
        "from nltk import FreqDist, classify, NaiveBayesClassifier\n",
        "import re, string, random\n",
        " "
      ],
      "execution_count": 1,
      "outputs": []
    },
    {
      "cell_type": "markdown",
      "metadata": {
        "id": "ki9RKLMd_NjG"
      },
      "source": [
        "## **TWEET EXTRACTION**"
      ]
    },
    {
      "cell_type": "code",
      "metadata": {
        "id": "TgAAh0lB-p8R"
      },
      "source": [
        "CONSUMER_KEY='8V4toASRqwVLXtP7yp1pKJICv'\n",
        "CONSUMER_SECRET='TDEVVQ5LBgXGzwXZKne2OAgNapIAeBSCREhLyDwvfZs8RaAO4D'\n",
        "ACCESS_KEY='1312978936037552128-NZ0WXcyfuNzJ98AbxLkuts5TVklx9h'\n",
        "ACCESS_SECRET='qJZ53s1rx6n0UUmIkjxuyXWKigF237qLCxLdPGONOjkcx'\n",
        "auth=tweepy.OAuthHandler(CONSUMER_KEY,CONSUMER_SECRET)\n",
        "auth.set_access_token(ACCESS_KEY,ACCESS_SECRET)\n",
        "auth.secure=True\n",
        "api=tweepy.API(auth,wait_on_rate_limit=True,wait_on_rate_limit_notify=True)"
      ],
      "execution_count": 2,
      "outputs": []
    },
    {
      "cell_type": "code",
      "metadata": {
        "id": "gMgHJBoh-tcO"
      },
      "source": [
        "def extraction():\n",
        "\n",
        "    searchQuery = 'Covid 19'\n",
        "    count = 1\n",
        "    try:\n",
        "        # Creation of query method using parameters\n",
        "        tweets = tweepy.Cursor(api.search,q=searchQuery).items(count)\n",
        "        \n",
        "        # Pulling information from tweets iterable object\n",
        "        tweets_list = [[tweet.created_at, tweet.id, tweet.text] for tweet in tweets]\n",
        "    \n",
        "    # Creation of dataframe from tweets list\n",
        "    # Add or remove columns as you remove tweet information\n",
        "        tweets_df = pd.DataFrame(tweets_list)\n",
        "    \n",
        "    except BaseException as e:\n",
        "        print('failed on_status,',str(e))\n",
        "        times.sleep(3)\n",
        "        \n",
        "    q=searchQuery\n",
        "    tweetsPerQry=1\n",
        "    fName='newFile.txt'\n",
        "    sinceId=None\n",
        "    max_id= -1\n",
        "    maxTweets=1\n",
        "    tweetCount=0\n",
        "    print(\"downloading\".format(maxTweets))\n",
        "    with open(fName ,'w') as f:\n",
        "        while tweetCount<maxTweets:\n",
        "            tweets=[]\n",
        "            try:\n",
        "                if(max_id<=0):\n",
        "                    if(not sinceId):\n",
        "                        new_tweets=api.search(q=q,lang=\"en\",count=tweetsPerQry,tweet_mode='extended')\n",
        "                    else:\n",
        "                        new_tweets=api.search(q=q,lang=\"en\",count=tweetsPerQry,since_id=sinceId,tweet_mode='extended')\n",
        "                else:\n",
        "                    if(not sinceId):\n",
        "                        new_tweets=api.search(q=q,lang=\"en\",count=tweetsPerQry,max_id=str(max_id-1),tweet_mode='extended')\n",
        "                    else:\n",
        "                        new_tweets=api.search(q=q,lang=\"en\",count=tweetsPerQry,max_id=str(max_id-1),since_id=sinceId,tweet_mode='extended')\n",
        "        \n",
        "                if not new_tweets:\n",
        "                    print(\"no more tweets found\")\n",
        "                    break\n",
        "                for tweet in new_tweets:\n",
        "                    f.write(str(tweet.full_text.replace('\\n','').encode(\"utf-8\"))+\"\\n\")\n",
        "        \n",
        "                tweetCount+=len(new_tweets)\n",
        "                print(\"Downloaded {0} tweets\".format(tweetCount))\n",
        "                max_id=new_tweets[-1].id\n",
        "        \n",
        "            except tweepy.TweepError as e:\n",
        "                print(\"Some error: \"+str(e))\n",
        "                break\n",
        "        \n",
        "    print (\"Downloaded {0} tweets , saved to {1}\".format(tweetCount,fName)) \n",
        "\n",
        "\n",
        "    f_1 = open(\"newFile.txt\", \"r\")\n",
        "    print(\" The tweet is: \")\n",
        "    read_tweet = f_1.read() \n",
        "    print(read_tweet)                                          \n",
        "\n",
        "    return read_tweet\n",
        "    \n",
        "    "
      ],
      "execution_count": 3,
      "outputs": []
    },
    {
      "cell_type": "markdown",
      "metadata": {
        "id": "JCpO9TJa_UuV"
      },
      "source": [
        "# **`PREPROCESSING ON TWEETS`**"
      ]
    },
    {
      "cell_type": "code",
      "metadata": {
        "id": "zxoFeUsk_Glc"
      },
      "source": [
        "from nltk.tokenize import sent_tokenize, word_tokenize \n",
        "import nltk\n",
        "from nltk.corpus import stopwords\n",
        "from nltk.stem import WordNetLemmatizer \n",
        "#from extract_tweets import extraction"
      ],
      "execution_count": 4,
      "outputs": []
    },
    {
      "cell_type": "code",
      "metadata": {
        "id": "LhjiHrrt__2u"
      },
      "source": [
        "# read_tweet1 = extraction()\n",
        "\n",
        "\n",
        "def processing():\n",
        "    text = extraction()\n",
        "\n",
        "    #print(read_tweet1)\n",
        "    # remove url\n",
        "    import re\n",
        "    pattern=r'(?i)\\b((?:[a-z][\\w-]+:(?:/{1,3}|[a-z0-9%])|www\\d{0,3}[.]|[a-z0-9.\\-]+[.][a-z]{2,4}/)(?:[^\\s()<>]+|\\(([^\\s()<>]+|(\\([^\\s()<>]+\\)))\\))+(?:\\(([^\\s()<>]+|(\\([^\\s()<>]+\\)))\\)|[^\\s`!()\\[\\]{};:\\'\".,<>?«»“”‘’]))';\n",
        "    match = re.findall(pattern, text)\n",
        "    for m in match:\n",
        "        url = m[0]\n",
        "        text = text.replace(url, '')\n",
        "\n",
        "    # remove mentions\n",
        "    text1 = re.sub('@[^\\s]+','',text)\n",
        "    # text = re.sub(r'^RT[\\s]+', '', text)\n",
        "    t_withoutMentions = re.sub(r'^RT[\\s]+', '', text1)\n",
        "    t3=t_withoutMentions\n",
        "\n",
        "  \n",
        "    #def handle_emojis(t3):\n",
        "        # Smile -- :), : ), :-), (:, ( :, (-:, :')\n",
        "    t3 = re.sub(r'(:\\s?\\)|:-\\)|\\(\\s?:|\\(-:|:\\'\\))', ' Happy ', t3)\n",
        "        # Laugh -- :D, : D, :-D, xD, x-D, XD, X-D\n",
        "    t3 = re.sub(r'(:\\s?D|:-D|x-?D|X-?D)', ' Laugh ', t3)\n",
        "        # Love -- <3, :*\n",
        "    t3 = re.sub(r'(<3|:\\*)', ' Love ', t3)\n",
        "        # Wink -- ;-), ;), ;-D, ;D, (;,  (-;\n",
        "    t3 = re.sub(r'(;-?\\)|;-?D|\\(-?;)', ' Wink ', t3)\n",
        "        # Sad -- :-(, : (, :(, ):, )-:\n",
        "    t3 = re.sub(r'(:\\s?\\(|:-\\(|\\)\\s?:|\\)-:)', ' Sad ', t3)\n",
        "        # Cry -- :,(, :'(, :\"(\n",
        "    t3 = re.sub(r'(:,\\(|:\\'\\(|:\"\\()', ' Cry ', t3)\n",
        "    \n",
        "    phrase= t3\n",
        "    phrase = re.sub(r\"won\\'t\", \"will not\", phrase)\n",
        "    phrase = re.sub(r\"can\\'t\", \"cannot\", phrase)\n",
        "\n",
        "    # general\n",
        "    phrase = re.sub(r\"n\\'t\", \"not\", phrase)\n",
        "    phrase = re.sub(r\"\\'re\", \"are\", phrase)\n",
        "    phrase = re.sub(r\"\\'s\", \"is\", phrase)\n",
        "    phrase = re.sub(r\"\\'d\", \"would\", phrase)\n",
        "    phrase = re.sub(r\"\\'ll\", \"will\", phrase)\n",
        "    phrase = re.sub(r\"\\'t\", \"not\", phrase)\n",
        "    phrase = re.sub(r\"\\'ve\", \"have\", phrase)\n",
        "    phrase = re.sub(r\"\\'m\", \"am\", phrase)\n",
        "\n",
        "    \n",
        "\n",
        "    #open the fle slang.txt \n",
        "    file=open(\"slang2.txt\",\"r\") \n",
        "    slang=file.read() \n",
        "    ts=phrase\n",
        "    ts=ts.upper()\n",
        "    #seperating each line present in the file \n",
        "    slang=slang.split('\\n') \n",
        "        \n",
        "    tweet_tokens=ts.split() \n",
        "    slang_word=[] \n",
        "    meaning=[] \n",
        "        \n",
        "    #store the slang words and meanings in different lists \n",
        "    for line in slang: \n",
        "        temp=line.split(\"=\") \n",
        "        slang_word.append(temp[0]) \n",
        "        meaning.append(temp[-1]) \n",
        "        \n",
        "    #replace the slang word with meaning \n",
        "    for i,word in enumerate(tweet_tokens): \n",
        "        if word in slang_word: \n",
        "            idx=slang_word.index(word) \n",
        "            tweet_tokens[i]=meaning[idx] \n",
        "\n",
        "    \n",
        "\n",
        "    ts1=\" \".join(tweet_tokens) \n",
        "    phrase1=ts1\n",
        "    phrase1 = re.sub(r\"won\\'t\", \"will not\", phrase1)\n",
        "    phrase1 = re.sub(r\"can\\'t\", \"can not\", phrase1)\n",
        "\n",
        "    # general\n",
        "    phrase1 = re.sub(r\"n\\'t\", \"not\", phrase1)\n",
        "    phrase1 = re.sub(r\"\\'re\", \"are\", phrase1)\n",
        "    phrase1 = re.sub(r\"\\'s\", \"is\", phrase1)\n",
        "    phrase1 = re.sub(r\"\\'d\", \"would\", phrase1)\n",
        "    phrase1 = re.sub(r\"\\'ll\", \"will\", phrase1)\n",
        "    phrase1 = re.sub(r\"\\'t\", \"not\", phrase1)\n",
        "    phrase1 = re.sub(r\"\\'ve\", \"have\", phrase1)\n",
        "    phrase1 = re.sub(r\"\\'m\", \"am\", phrase1)\n",
        "\n",
        "    \n",
        "\n",
        "    punc = '''?@#$%^&*_~'''\n",
        "        \n",
        "    for ele in phrase1:  \n",
        "        if ele in punc:  \n",
        "            phrase1 = phrase1.replace(ele, \" \")  \n",
        "\n",
        "    \n",
        "    # # tokenization\n",
        "    # t10 = word_tokenize(phrase1)\n",
        "   \n",
        "    # def listToString(t10):  \n",
        "            \n",
        "    #     # initialize an empty string \n",
        "    #     t0 = \"\"\n",
        "    #     return (t0.join(t10))           \n",
        "    # t0 = listToString(t10)  \n",
        "    \n",
        "    # # remove puntuations\n",
        "    # punc = '''!()-[]{};:\"\\,<>./?@#$%^&*_~'''\n",
        "    # for ele in t0:  \n",
        "    #     if ele in punc:  \n",
        "    #         t0 = t0.replace(ele, \" \")\n",
        "\n",
        "  \n",
        "    # print (phrase1)\n",
        "    return phrase1\n",
        "\n",
        "\n",
        "# processing()"
      ],
      "execution_count": 5,
      "outputs": []
    },
    {
      "cell_type": "code",
      "metadata": {
        "id": "YSORfQje-2z6"
      },
      "source": [
        "def preprocess(phrase1):\n",
        "  processing()\n",
        "  return phrase1"
      ],
      "execution_count": 6,
      "outputs": []
    },
    {
      "cell_type": "markdown",
      "metadata": {
        "id": "A7uCIyYWAEgG"
      },
      "source": [
        "# **NAIVE BAYES CLASSIFIER**"
      ]
    },
    {
      "cell_type": "code",
      "metadata": {
        "colab": {
          "base_uri": "https://localhost:8080/",
          "height": 195
        },
        "id": "gGd9u4AsADeI",
        "outputId": "0a2e0881-36b8-4146-ba3b-26826f40afc9"
      },
      "source": [
        "import pandas as pd\n",
        "#importing the dataset\n",
        "df = pd.read_csv(\"sentiDataSet100.csv\", encoding = \"ISO-8859-1\")\n",
        "df.head()"
      ],
      "execution_count": 7,
      "outputs": [
        {
          "output_type": "execute_result",
          "data": {
            "text/html": [
              "<div>\n",
              "<style scoped>\n",
              "    .dataframe tbody tr th:only-of-type {\n",
              "        vertical-align: middle;\n",
              "    }\n",
              "\n",
              "    .dataframe tbody tr th {\n",
              "        vertical-align: top;\n",
              "    }\n",
              "\n",
              "    .dataframe thead th {\n",
              "        text-align: right;\n",
              "    }\n",
              "</style>\n",
              "<table border=\"1\" class=\"dataframe\">\n",
              "  <thead>\n",
              "    <tr style=\"text-align: right;\">\n",
              "      <th></th>\n",
              "      <th>sentiment</th>\n",
              "      <th>text</th>\n",
              "      <th>Unnamed: 2</th>\n",
              "      <th>Unnamed: 3</th>\n",
              "    </tr>\n",
              "  </thead>\n",
              "  <tbody>\n",
              "    <tr>\n",
              "      <th>0</th>\n",
              "      <td>neutral</td>\n",
              "      <td>Learn from DataMuni how to use RAPIDS??s #GPU...</td>\n",
              "      <td>NaN</td>\n",
              "      <td>NaN</td>\n",
              "    </tr>\n",
              "    <tr>\n",
              "      <th>1</th>\n",
              "      <td>positive</td>\n",
              "      <td>RT @CongressmanRaja: I??m so proud of our sta...</td>\n",
              "      <td>NaN</td>\n",
              "      <td>NaN</td>\n",
              "    </tr>\n",
              "    <tr>\n",
              "      <th>2</th>\n",
              "      <td>neutral</td>\n",
              "      <td>RT @chidambara09: #SOciaLmediA\\n\\nhttps://t.co...</td>\n",
              "      <td>NaN</td>\n",
              "      <td>NaN</td>\n",
              "    </tr>\n",
              "    <tr>\n",
              "      <th>3</th>\n",
              "      <td>neutral</td>\n",
              "      <td>RT @conflictarm: CAR is recruiting two Data An...</td>\n",
              "      <td>NaN</td>\n",
              "      <td>NaN</td>\n",
              "    </tr>\n",
              "    <tr>\n",
              "      <th>4</th>\n",
              "      <td>positive</td>\n",
              "      <td>RT @ossia: OK. We're building a Data Science c...</td>\n",
              "      <td>NaN</td>\n",
              "      <td>NaN</td>\n",
              "    </tr>\n",
              "  </tbody>\n",
              "</table>\n",
              "</div>"
            ],
            "text/plain": [
              "  sentiment  ... Unnamed: 3\n",
              "0   neutral  ...        NaN\n",
              "1  positive  ...        NaN\n",
              "2   neutral  ...        NaN\n",
              "3   neutral  ...        NaN\n",
              "4  positive  ...        NaN\n",
              "\n",
              "[5 rows x 4 columns]"
            ]
          },
          "metadata": {
            "tags": []
          },
          "execution_count": 7
        }
      ]
    },
    {
      "cell_type": "code",
      "metadata": {
        "colab": {
          "base_uri": "https://localhost:8080/",
          "height": 195
        },
        "id": "jCij57V5AYVn",
        "outputId": "15ad9c7e-fb21-4ae9-f0c8-549428ca03ff"
      },
      "source": [
        "df.groupby('sentiment').describe()\r\n"
      ],
      "execution_count": 8,
      "outputs": [
        {
          "output_type": "execute_result",
          "data": {
            "text/html": [
              "<div>\n",
              "<style scoped>\n",
              "    .dataframe tbody tr th:only-of-type {\n",
              "        vertical-align: middle;\n",
              "    }\n",
              "\n",
              "    .dataframe tbody tr th {\n",
              "        vertical-align: top;\n",
              "    }\n",
              "\n",
              "    .dataframe thead tr th {\n",
              "        text-align: left;\n",
              "    }\n",
              "\n",
              "    .dataframe thead tr:last-of-type th {\n",
              "        text-align: right;\n",
              "    }\n",
              "</style>\n",
              "<table border=\"1\" class=\"dataframe\">\n",
              "  <thead>\n",
              "    <tr>\n",
              "      <th></th>\n",
              "      <th colspan=\"8\" halign=\"left\">Unnamed: 2</th>\n",
              "    </tr>\n",
              "    <tr>\n",
              "      <th></th>\n",
              "      <th>count</th>\n",
              "      <th>mean</th>\n",
              "      <th>std</th>\n",
              "      <th>min</th>\n",
              "      <th>25%</th>\n",
              "      <th>50%</th>\n",
              "      <th>75%</th>\n",
              "      <th>max</th>\n",
              "    </tr>\n",
              "    <tr>\n",
              "      <th>sentiment</th>\n",
              "      <th></th>\n",
              "      <th></th>\n",
              "      <th></th>\n",
              "      <th></th>\n",
              "      <th></th>\n",
              "      <th></th>\n",
              "      <th></th>\n",
              "      <th></th>\n",
              "    </tr>\n",
              "  </thead>\n",
              "  <tbody>\n",
              "    <tr>\n",
              "      <th>negative</th>\n",
              "      <td>0.0</td>\n",
              "      <td>NaN</td>\n",
              "      <td>NaN</td>\n",
              "      <td>NaN</td>\n",
              "      <td>NaN</td>\n",
              "      <td>NaN</td>\n",
              "      <td>NaN</td>\n",
              "      <td>NaN</td>\n",
              "    </tr>\n",
              "    <tr>\n",
              "      <th>neutral</th>\n",
              "      <td>0.0</td>\n",
              "      <td>NaN</td>\n",
              "      <td>NaN</td>\n",
              "      <td>NaN</td>\n",
              "      <td>NaN</td>\n",
              "      <td>NaN</td>\n",
              "      <td>NaN</td>\n",
              "      <td>NaN</td>\n",
              "    </tr>\n",
              "    <tr>\n",
              "      <th>positive</th>\n",
              "      <td>0.0</td>\n",
              "      <td>NaN</td>\n",
              "      <td>NaN</td>\n",
              "      <td>NaN</td>\n",
              "      <td>NaN</td>\n",
              "      <td>NaN</td>\n",
              "      <td>NaN</td>\n",
              "      <td>NaN</td>\n",
              "    </tr>\n",
              "  </tbody>\n",
              "</table>\n",
              "</div>"
            ],
            "text/plain": [
              "          Unnamed: 2                             \n",
              "               count mean std min 25% 50% 75% max\n",
              "sentiment                                        \n",
              "negative         0.0  NaN NaN NaN NaN NaN NaN NaN\n",
              "neutral          0.0  NaN NaN NaN NaN NaN NaN NaN\n",
              "positive         0.0  NaN NaN NaN NaN NaN NaN NaN"
            ]
          },
          "metadata": {
            "tags": []
          },
          "execution_count": 8
        }
      ]
    },
    {
      "cell_type": "code",
      "metadata": {
        "colab": {
          "base_uri": "https://localhost:8080/",
          "height": 195
        },
        "id": "NJfXkvBEAdMB",
        "outputId": "fa0599f1-5003-475a-8534-e9cc2b203f33"
      },
      "source": [
        "# ml models understand numbers not text\r\n",
        "df['category']=df['sentiment'].apply(lambda x: 1 if x=='positive' else 0)\r\n",
        "df.head()"
      ],
      "execution_count": 9,
      "outputs": [
        {
          "output_type": "execute_result",
          "data": {
            "text/html": [
              "<div>\n",
              "<style scoped>\n",
              "    .dataframe tbody tr th:only-of-type {\n",
              "        vertical-align: middle;\n",
              "    }\n",
              "\n",
              "    .dataframe tbody tr th {\n",
              "        vertical-align: top;\n",
              "    }\n",
              "\n",
              "    .dataframe thead th {\n",
              "        text-align: right;\n",
              "    }\n",
              "</style>\n",
              "<table border=\"1\" class=\"dataframe\">\n",
              "  <thead>\n",
              "    <tr style=\"text-align: right;\">\n",
              "      <th></th>\n",
              "      <th>sentiment</th>\n",
              "      <th>text</th>\n",
              "      <th>Unnamed: 2</th>\n",
              "      <th>Unnamed: 3</th>\n",
              "      <th>category</th>\n",
              "    </tr>\n",
              "  </thead>\n",
              "  <tbody>\n",
              "    <tr>\n",
              "      <th>0</th>\n",
              "      <td>neutral</td>\n",
              "      <td>Learn from DataMuni how to use RAPIDS??s #GPU...</td>\n",
              "      <td>NaN</td>\n",
              "      <td>NaN</td>\n",
              "      <td>0</td>\n",
              "    </tr>\n",
              "    <tr>\n",
              "      <th>1</th>\n",
              "      <td>positive</td>\n",
              "      <td>RT @CongressmanRaja: I??m so proud of our sta...</td>\n",
              "      <td>NaN</td>\n",
              "      <td>NaN</td>\n",
              "      <td>1</td>\n",
              "    </tr>\n",
              "    <tr>\n",
              "      <th>2</th>\n",
              "      <td>neutral</td>\n",
              "      <td>RT @chidambara09: #SOciaLmediA\\n\\nhttps://t.co...</td>\n",
              "      <td>NaN</td>\n",
              "      <td>NaN</td>\n",
              "      <td>0</td>\n",
              "    </tr>\n",
              "    <tr>\n",
              "      <th>3</th>\n",
              "      <td>neutral</td>\n",
              "      <td>RT @conflictarm: CAR is recruiting two Data An...</td>\n",
              "      <td>NaN</td>\n",
              "      <td>NaN</td>\n",
              "      <td>0</td>\n",
              "    </tr>\n",
              "    <tr>\n",
              "      <th>4</th>\n",
              "      <td>positive</td>\n",
              "      <td>RT @ossia: OK. We're building a Data Science c...</td>\n",
              "      <td>NaN</td>\n",
              "      <td>NaN</td>\n",
              "      <td>1</td>\n",
              "    </tr>\n",
              "  </tbody>\n",
              "</table>\n",
              "</div>"
            ],
            "text/plain": [
              "  sentiment  ... category\n",
              "0   neutral  ...        0\n",
              "1  positive  ...        1\n",
              "2   neutral  ...        0\n",
              "3   neutral  ...        0\n",
              "4  positive  ...        1\n",
              "\n",
              "[5 rows x 5 columns]"
            ]
          },
          "metadata": {
            "tags": []
          },
          "execution_count": 9
        }
      ]
    },
    {
      "cell_type": "code",
      "metadata": {
        "id": "lnQtAgIyAf4O"
      },
      "source": [
        "\r\n",
        "from sklearn.model_selection import train_test_split\r\n",
        "X_train, X_test, y_train, y_test = train_test_split(df.text,df.category)"
      ],
      "execution_count": 10,
      "outputs": []
    },
    {
      "cell_type": "code",
      "metadata": {
        "colab": {
          "base_uri": "https://localhost:8080/"
        },
        "id": "vBivLo6fAkLf",
        "outputId": "69c63b66-70a8-46aa-f11c-300ec6125f47"
      },
      "source": [
        "from sklearn.feature_extraction.text import CountVectorizer\r\n",
        "v = CountVectorizer()\r\n",
        "X_train_count = v.fit_transform(X_train.values)\r\n",
        "X_train_count.toarray()[:2]"
      ],
      "execution_count": 11,
      "outputs": [
        {
          "output_type": "execute_result",
          "data": {
            "text/plain": [
              "array([[0, 0, 0, ..., 1, 0, 0],\n",
              "       [0, 0, 0, ..., 0, 0, 0]])"
            ]
          },
          "metadata": {
            "tags": []
          },
          "execution_count": 11
        }
      ]
    },
    {
      "cell_type": "code",
      "metadata": {
        "colab": {
          "base_uri": "https://localhost:8080/"
        },
        "id": "VMsjhV1KAl-O",
        "outputId": "6813da27-7581-481d-ac60-1ff34b900dfa"
      },
      "source": [
        "from sklearn.naive_bayes import MultinomialNB\r\n",
        "model = MultinomialNB()\r\n",
        "model.fit(X_train_count,y_train)"
      ],
      "execution_count": 12,
      "outputs": [
        {
          "output_type": "execute_result",
          "data": {
            "text/plain": [
              "MultinomialNB(alpha=1.0, class_prior=None, fit_prior=True)"
            ]
          },
          "metadata": {
            "tags": []
          },
          "execution_count": 12
        }
      ]
    },
    {
      "cell_type": "code",
      "metadata": {
        "colab": {
          "base_uri": "https://localhost:8080/"
        },
        "id": "u4czQ-HrApxC",
        "outputId": "67c70fe8-f627-45fd-b36b-9e4aef4f8705"
      },
      "source": [
        "tweet_sample = [\r\n",
        "    'I am really not at all happy'\r\n",
        "    \r\n",
        "]\r\n",
        "tweet_count = v.transform(tweet_sample)\r\n",
        "model.predict(tweet_count)"
      ],
      "execution_count": 13,
      "outputs": [
        {
          "output_type": "execute_result",
          "data": {
            "text/plain": [
              "array([0])"
            ]
          },
          "metadata": {
            "tags": []
          },
          "execution_count": 13
        }
      ]
    },
    {
      "cell_type": "code",
      "metadata": {
        "colab": {
          "base_uri": "https://localhost:8080/"
        },
        "id": "sp2a2ByBV5AK",
        "outputId": "db8b39e0-a709-410f-e570-6afad19d0092"
      },
      "source": [
        " import nltk\r\n",
        " nltk.download('punkt')"
      ],
      "execution_count": 14,
      "outputs": [
        {
          "output_type": "stream",
          "text": [
            "[nltk_data] Downloading package punkt to /root/nltk_data...\n",
            "[nltk_data]   Unzipping tokenizers/punkt.zip.\n"
          ],
          "name": "stdout"
        },
        {
          "output_type": "execute_result",
          "data": {
            "text/plain": [
              "True"
            ]
          },
          "metadata": {
            "tags": []
          },
          "execution_count": 14
        }
      ]
    },
    {
      "cell_type": "code",
      "metadata": {
        "id": "naT0Q5CxVc_0"
      },
      "source": [
        "# def calling():\r\n",
        "#     for counter in range(1):\r\n",
        "#         extraction()\r\n",
        "#         processing()\r\n",
        "#         #naiveclassify()\r\n",
        "#         print(\"======================================================\")\r\n",
        "#         print(\"=====================================================\")\r\n",
        "\r\n",
        "# if __name__ == \"__main__\":\r\n",
        "#     calling()"
      ],
      "execution_count": 15,
      "outputs": []
    },
    {
      "cell_type": "code",
      "metadata": {
        "colab": {
          "base_uri": "https://localhost:8080/"
        },
        "id": "Nq_XS-cAVTl8",
        "outputId": "129a0d73-5415-4f38-f5a6-76dd638a0abc"
      },
      "source": [
        "\r\n",
        "\r\n",
        "tweet_sample = [\r\n",
        "    processing()\r\n",
        "    \r\n",
        "]\r\n",
        "tweet_count = v.transform(tweet_sample)\r\n",
        "model.predict(tweet_count)"
      ],
      "execution_count": 16,
      "outputs": [
        {
          "output_type": "stream",
          "text": [
            "downloading\n",
            "Downloaded 1 tweets\n",
            "Downloaded 1 tweets , saved to newFile.txt\n",
            " The tweet is: \n",
            "b'RT @TheLeadCNN: Tricia Moten, top nurse at a Houston hospital dies of Covid @jaketapper reports https://t.co/PodOp1jCWL https://t.co/ZFq53L\\xe2\\x80\\xa6'\n",
            "\n"
          ],
          "name": "stdout"
        },
        {
          "output_type": "execute_result",
          "data": {
            "text/plain": [
              "array([1])"
            ]
          },
          "metadata": {
            "tags": []
          },
          "execution_count": 16
        }
      ]
    },
    {
      "cell_type": "code",
      "metadata": {
        "id": "GfZ5UgK7QtKT"
      },
      "source": [
        "###########################\r\n",
        "\r\n",
        "def naive_classifier():\r\n",
        "\r\n",
        "  tweet_sample = [\r\n",
        "      processing()\r\n",
        "      \r\n",
        "  ]\r\n",
        "  \r\n",
        "  tweet_count = v.transform(tweet_sample)\r\n",
        "  print(\"CLASSIFICATION USING NAIVE BAYES\")\r\n",
        "  print(model.predict(tweet_count))\r\n",
        "\r\n",
        "# naive_classifier()"
      ],
      "execution_count": 48,
      "outputs": []
    },
    {
      "cell_type": "code",
      "metadata": {
        "colab": {
          "base_uri": "https://localhost:8080/"
        },
        "id": "DucR31FpAskz",
        "outputId": "86b155ce-155a-45ad-c99e-42ab8da906c2"
      },
      "source": [
        "X_test_count = v.transform(X_test)\r\n",
        "model.score(X_test_count, y_test)"
      ],
      "execution_count": 18,
      "outputs": [
        {
          "output_type": "execute_result",
          "data": {
            "text/plain": [
              "0.7857142857142857"
            ]
          },
          "metadata": {
            "tags": []
          },
          "execution_count": 18
        }
      ]
    },
    {
      "cell_type": "markdown",
      "metadata": {
        "id": "H_yjCMg_rWX2"
      },
      "source": [
        "# **LOGISTIC REGRESSION**"
      ]
    },
    {
      "cell_type": "code",
      "metadata": {
        "id": "QGBMrj64zwvC"
      },
      "source": [
        "# libratries for data manupulation and visualization\r\n",
        "import numpy as np\r\n",
        "import pandas as pd\r\n",
        "import seaborn as sns #plotting library\r\n",
        "import matplotlib.pyplot as plt\r\n",
        "import json\r\n",
        "import re\r\n",
        "import string\r\n",
        "import tqdm\r\n",
        "\r\n",
        "import nltk\r\n",
        "from nltk.corpus import stopwords\r\n",
        "from nltk.stem import PorterStemmer\r\n",
        "from nltk.tokenize import TweetTokenizer"
      ],
      "execution_count": 19,
      "outputs": []
    },
    {
      "cell_type": "code",
      "metadata": {
        "id": "xzIxAE37z0m3"
      },
      "source": [
        "sns.set_style('darkgrid') # setting the bg to darkgrid"
      ],
      "execution_count": 20,
      "outputs": []
    },
    {
      "cell_type": "code",
      "metadata": {
        "id": "pHnoC6Fez238"
      },
      "source": [
        "columns = ['sentiment1', 'text', 'date', 'loc']"
      ],
      "execution_count": 21,
      "outputs": []
    },
    {
      "cell_type": "code",
      "metadata": {
        "id": "MJjhnM6vz4X2"
      },
      "source": [
        "df = pd.read_csv('sentiDataSet100.csv', header = None, names = columns,  encoding='ISO-8859-1')"
      ],
      "execution_count": 22,
      "outputs": []
    },
    {
      "cell_type": "code",
      "metadata": {
        "colab": {
          "base_uri": "https://localhost:8080/",
          "height": 195
        },
        "id": "lz9m_14Qz53d",
        "outputId": "781cc95a-b205-4758-da64-9670d2a879d0"
      },
      "source": [
        "df.head()"
      ],
      "execution_count": 23,
      "outputs": [
        {
          "output_type": "execute_result",
          "data": {
            "text/html": [
              "<div>\n",
              "<style scoped>\n",
              "    .dataframe tbody tr th:only-of-type {\n",
              "        vertical-align: middle;\n",
              "    }\n",
              "\n",
              "    .dataframe tbody tr th {\n",
              "        vertical-align: top;\n",
              "    }\n",
              "\n",
              "    .dataframe thead th {\n",
              "        text-align: right;\n",
              "    }\n",
              "</style>\n",
              "<table border=\"1\" class=\"dataframe\">\n",
              "  <thead>\n",
              "    <tr style=\"text-align: right;\">\n",
              "      <th></th>\n",
              "      <th>sentiment1</th>\n",
              "      <th>text</th>\n",
              "      <th>date</th>\n",
              "      <th>loc</th>\n",
              "    </tr>\n",
              "  </thead>\n",
              "  <tbody>\n",
              "    <tr>\n",
              "      <th>0</th>\n",
              "      <td>sentiment</td>\n",
              "      <td>text</td>\n",
              "      <td>NaN</td>\n",
              "      <td>NaN</td>\n",
              "    </tr>\n",
              "    <tr>\n",
              "      <th>1</th>\n",
              "      <td>neutral</td>\n",
              "      <td>Learn from DataMuni how to use RAPIDS??s #GPU...</td>\n",
              "      <td>NaN</td>\n",
              "      <td>NaN</td>\n",
              "    </tr>\n",
              "    <tr>\n",
              "      <th>2</th>\n",
              "      <td>positive</td>\n",
              "      <td>RT @CongressmanRaja: I??m so proud of our sta...</td>\n",
              "      <td>NaN</td>\n",
              "      <td>NaN</td>\n",
              "    </tr>\n",
              "    <tr>\n",
              "      <th>3</th>\n",
              "      <td>neutral</td>\n",
              "      <td>RT @chidambara09: #SOciaLmediA\\n\\nhttps://t.co...</td>\n",
              "      <td>NaN</td>\n",
              "      <td>NaN</td>\n",
              "    </tr>\n",
              "    <tr>\n",
              "      <th>4</th>\n",
              "      <td>neutral</td>\n",
              "      <td>RT @conflictarm: CAR is recruiting two Data An...</td>\n",
              "      <td>NaN</td>\n",
              "      <td>NaN</td>\n",
              "    </tr>\n",
              "  </tbody>\n",
              "</table>\n",
              "</div>"
            ],
            "text/plain": [
              "  sentiment1                                               text  date  loc\n",
              "0  sentiment                                               text   NaN  NaN\n",
              "1    neutral  Learn from DataMuni how to use RAPIDS??s #GPU...   NaN  NaN\n",
              "2   positive  RT @CongressmanRaja: I??m so proud of our sta...   NaN  NaN\n",
              "3    neutral  RT @chidambara09: #SOciaLmediA\\n\\nhttps://t.co...   NaN  NaN\n",
              "4    neutral  RT @conflictarm: CAR is recruiting two Data An...   NaN  NaN"
            ]
          },
          "metadata": {
            "tags": []
          },
          "execution_count": 23
        }
      ]
    },
    {
      "cell_type": "code",
      "metadata": {
        "colab": {
          "base_uri": "https://localhost:8080/",
          "height": 195
        },
        "id": "Gp-hmtco0IR4",
        "outputId": "1f279478-cd04-4de5-fe14-486d6b9a6958"
      },
      "source": [
        "# ml models understand numbers not text\r\n",
        "# thus converting sentiment to value (1/0)\r\n",
        "df['category'] = df['sentiment1'].apply(lambda x: 0 if x=='negative' else 1)\r\n",
        "df.head()"
      ],
      "execution_count": 24,
      "outputs": [
        {
          "output_type": "execute_result",
          "data": {
            "text/html": [
              "<div>\n",
              "<style scoped>\n",
              "    .dataframe tbody tr th:only-of-type {\n",
              "        vertical-align: middle;\n",
              "    }\n",
              "\n",
              "    .dataframe tbody tr th {\n",
              "        vertical-align: top;\n",
              "    }\n",
              "\n",
              "    .dataframe thead th {\n",
              "        text-align: right;\n",
              "    }\n",
              "</style>\n",
              "<table border=\"1\" class=\"dataframe\">\n",
              "  <thead>\n",
              "    <tr style=\"text-align: right;\">\n",
              "      <th></th>\n",
              "      <th>sentiment1</th>\n",
              "      <th>text</th>\n",
              "      <th>date</th>\n",
              "      <th>loc</th>\n",
              "      <th>category</th>\n",
              "    </tr>\n",
              "  </thead>\n",
              "  <tbody>\n",
              "    <tr>\n",
              "      <th>0</th>\n",
              "      <td>sentiment</td>\n",
              "      <td>text</td>\n",
              "      <td>NaN</td>\n",
              "      <td>NaN</td>\n",
              "      <td>1</td>\n",
              "    </tr>\n",
              "    <tr>\n",
              "      <th>1</th>\n",
              "      <td>neutral</td>\n",
              "      <td>Learn from DataMuni how to use RAPIDS??s #GPU...</td>\n",
              "      <td>NaN</td>\n",
              "      <td>NaN</td>\n",
              "      <td>1</td>\n",
              "    </tr>\n",
              "    <tr>\n",
              "      <th>2</th>\n",
              "      <td>positive</td>\n",
              "      <td>RT @CongressmanRaja: I??m so proud of our sta...</td>\n",
              "      <td>NaN</td>\n",
              "      <td>NaN</td>\n",
              "      <td>1</td>\n",
              "    </tr>\n",
              "    <tr>\n",
              "      <th>3</th>\n",
              "      <td>neutral</td>\n",
              "      <td>RT @chidambara09: #SOciaLmediA\\n\\nhttps://t.co...</td>\n",
              "      <td>NaN</td>\n",
              "      <td>NaN</td>\n",
              "      <td>1</td>\n",
              "    </tr>\n",
              "    <tr>\n",
              "      <th>4</th>\n",
              "      <td>neutral</td>\n",
              "      <td>RT @conflictarm: CAR is recruiting two Data An...</td>\n",
              "      <td>NaN</td>\n",
              "      <td>NaN</td>\n",
              "      <td>1</td>\n",
              "    </tr>\n",
              "  </tbody>\n",
              "</table>\n",
              "</div>"
            ],
            "text/plain": [
              "  sentiment1                                               text  ...  loc category\n",
              "0  sentiment                                               text  ...  NaN        1\n",
              "1    neutral  Learn from DataMuni how to use RAPIDS??s #GPU...  ...  NaN        1\n",
              "2   positive  RT @CongressmanRaja: I??m so proud of our sta...  ...  NaN        1\n",
              "3    neutral  RT @chidambara09: #SOciaLmediA\\n\\nhttps://t.co...  ...  NaN        1\n",
              "4    neutral  RT @conflictarm: CAR is recruiting two Data An...  ...  NaN        1\n",
              "\n",
              "[5 rows x 5 columns]"
            ]
          },
          "metadata": {
            "tags": []
          },
          "execution_count": 24
        }
      ]
    },
    {
      "cell_type": "code",
      "metadata": {
        "colab": {
          "base_uri": "https://localhost:8080/"
        },
        "id": "GsHICWC00Jpp",
        "outputId": "959281bc-28c2-4466-e5ae-37e9c2dda2d3"
      },
      "source": [
        "num_tweets = len(df) # total tweets in dataset\r\n",
        "num_pos_tweets = len(df[df['category'] == 1])\r\n",
        "num_neg_tweets = len(df[df['category'] == 0])\r\n",
        "print(\"Total Number of tweets in the dataset = {}\".format(num_tweets))\r\n",
        "print(\"Total Number of positive tweets = {}\".format(num_pos_tweets))\r\n",
        "print(\"Total Number of negative tweets = {}\".format(num_neg_tweets))"
      ],
      "execution_count": 25,
      "outputs": [
        {
          "output_type": "stream",
          "text": [
            "Total Number of tweets in the dataset = 111\n",
            "Total Number of positive tweets = 93\n",
            "Total Number of negative tweets = 18\n"
          ],
          "name": "stdout"
        }
      ]
    },
    {
      "cell_type": "code",
      "metadata": {
        "id": "n313NEHk0Mgz"
      },
      "source": [
        "all_positive_tweets = list(df[df['category'] == 1]['text'])\r\n",
        "all_negative_tweets = list(df[df['category'] == 0]['text'])\r\n",
        "# print(all_negative_tweets[0])"
      ],
      "execution_count": 26,
      "outputs": []
    },
    {
      "cell_type": "code",
      "metadata": {
        "id": "JmxYY07V0N54"
      },
      "source": [
        "# if we take the large dataset\r\n",
        "# selecting only a portion of data due large size\r\n",
        "# select_prop = .25\r\n",
        "# all_positive_tweets = all_positive_tweets[:int(len(all_positive_tweets)*select_prop)]\r\n",
        "# all_negative_tweets = all_negative_tweets[:int(len(all_negative_tweets)*select_prop)]"
      ],
      "execution_count": 27,
      "outputs": []
    },
    {
      "cell_type": "code",
      "metadata": {
        "id": "d0eeJ0fi0QNj"
      },
      "source": [
        "train_split = 0.8    # ratio to be splitted in\r\n",
        "\r\n",
        "train_pos = all_positive_tweets[:int(len(all_positive_tweets)*train_split)]\r\n",
        "train_neg = all_negative_tweets[:int(len(all_negative_tweets)*train_split)]\r\n",
        "\r\n",
        "test_pos = all_positive_tweets[int(len(all_positive_tweets)*train_split):]\r\n",
        "test_neg = all_negative_tweets[int(len(all_negative_tweets)*train_split):]\r\n",
        "\r\n",
        "train_x = train_pos + train_neg\r\n",
        "test_x = test_pos + test_neg\r\n",
        "\r\n",
        "train_y = np.concatenate((np.ones(len(train_pos)), np.zeros(len(train_neg))))\r\n",
        "test_y = np.concatenate((np.ones(len(test_pos)), np.zeros(len(test_neg))))"
      ],
      "execution_count": 28,
      "outputs": []
    },
    {
      "cell_type": "code",
      "metadata": {
        "colab": {
          "base_uri": "https://localhost:8080/"
        },
        "id": "7NBPt7050T2W",
        "outputId": "eef74688-afd5-4e22-bd3b-530a9700dc05"
      },
      "source": [
        "print(\"Number of training samples - \", len(train_x))\r\n",
        "print(\"Numner of test samples - \", len(test_x))"
      ],
      "execution_count": 29,
      "outputs": [
        {
          "output_type": "stream",
          "text": [
            "Number of training samples -  88\n",
            "Numner of test samples -  23\n"
          ],
          "name": "stdout"
        }
      ]
    },
    {
      "cell_type": "code",
      "metadata": {
        "id": "xcIRhTFT0UgO"
      },
      "source": [
        "def process_tweet(tweet):\r\n",
        "    stemmer = PorterStemmer()\r\n",
        "    stopwords_english = stopwords.words('english')\r\n",
        "    # remove stock market tickers like $GE\r\n",
        "    tweet = re.sub(r'\\$\\w*', '', tweet)\r\n",
        "    # remove old style retweet text \"RT\"\r\n",
        "    tweet = re.sub(r'^RT[\\s]+', '', tweet)\r\n",
        "    # remove hyperlinks\r\n",
        "    tweet = re.sub(r'https?:\\/\\/.*[\\r\\n]*', '', tweet)\r\n",
        "    # remove hashtags\r\n",
        "    # only removing the hash # sign from the word\r\n",
        "    tweet = re.sub(r'#', '', tweet)\r\n",
        "    # tokenize tweets\r\n",
        "    tokenizer = TweetTokenizer(preserve_case=False, strip_handles=True,\r\n",
        "                               reduce_len=True)\r\n",
        "    tweet_tokens = tokenizer.tokenize(tweet)\r\n",
        "\r\n",
        "    tweets_clean = []\r\n",
        "    for word in tweet_tokens:\r\n",
        "        if (word not in stopwords_english and  # remove stopwords\r\n",
        "                word not in string.punctuation):  # remove punctuation\r\n",
        "            # tweets_clean.append(word)\r\n",
        "            stem_word = stemmer.stem(word)  # stemming word\r\n",
        "            tweets_clean.append(stem_word)\r\n",
        "\r\n",
        "    return tweets_clean\r\n",
        "# processing()\r\n",
        "\r\n",
        "def build_freqs(tweets, ys):\r\n",
        "\r\n",
        "    yslist = np.squeeze(ys).tolist()\r\n",
        "    freqs = {}\r\n",
        "    for y, tweet in zip(yslist, tweets):\r\n",
        "        for word in process_tweet(tweet):\r\n",
        "            pair = (word, y)\r\n",
        "            if pair in freqs:\r\n",
        "                freqs[pair] += 1\r\n",
        "            else:\r\n",
        "                freqs[pair] = 1\r\n",
        "\r\n",
        "    return freqs"
      ],
      "execution_count": 30,
      "outputs": []
    },
    {
      "cell_type": "code",
      "metadata": {
        "colab": {
          "base_uri": "https://localhost:8080/"
        },
        "id": "7dX44Q690XrU",
        "outputId": "d4538d34-13e2-4e1b-f428-6cccb8fbf7ed"
      },
      "source": [
        "import nltk\r\n",
        "nltk.download('stopwords')"
      ],
      "execution_count": 31,
      "outputs": [
        {
          "output_type": "stream",
          "text": [
            "[nltk_data] Downloading package stopwords to /root/nltk_data...\n",
            "[nltk_data]   Unzipping corpora/stopwords.zip.\n"
          ],
          "name": "stdout"
        },
        {
          "output_type": "execute_result",
          "data": {
            "text/plain": [
              "True"
            ]
          },
          "metadata": {
            "tags": []
          },
          "execution_count": 31
        }
      ]
    },
    {
      "cell_type": "code",
      "metadata": {
        "id": "z0La8Q4q0aoJ"
      },
      "source": [
        "freqs = build_freqs(train_x, train_y)"
      ],
      "execution_count": 32,
      "outputs": []
    },
    {
      "cell_type": "code",
      "metadata": {
        "id": "XeXpXYVX0cET"
      },
      "source": [
        "# sigmoid function\r\n",
        "def sigmoid(z):\r\n",
        "    h = 1/(1 + np.exp(-z))\r\n",
        "    return h\r\n",
        "\r\n",
        "#gradient descent algorithm \r\n",
        "def StochasticGradientDescent(x, y, theta, alpha, num_iters, batch_per_itr, batch_size):\r\n",
        "    \r\n",
        "    # x is matrix of features\r\n",
        "    # theta = wt. vector\r\n",
        "    # m = the number of rows in matrix x\r\n",
        "    # J = final cost\r\n",
        "    m =  x.shape[0]\r\n",
        "    loss = []\r\n",
        "    for itr in range(0, num_iters):\r\n",
        "        \r\n",
        "        for i in range(batch_per_itr):\r\n",
        "            batch = np.random.randint(0, m, size=batch_size)\r\n",
        "            x_train = x[batch,:]\r\n",
        "            y_train = y[batch,:]\r\n",
        "            \r\n",
        "            # get z, the dot product of x and theta\r\n",
        "            z = np.dot(x_train, theta)\r\n",
        "        \r\n",
        "            # get the sigmoid of z\r\n",
        "            h = sigmoid(z)\r\n",
        "        \r\n",
        "            # calculate the cost function\r\n",
        "            J = -1/batch_size * (np.dot(np.transpose(y_train),np.log(h)) + np.dot(np.transpose(1 - y_train), np.log(1 - h)))\r\n",
        "            \r\n",
        "            # update the weights theta\r\n",
        "            theta = theta - ( alpha/m * np.dot(np.transpose(x_train), (h - y_train)))\r\n",
        "        if not itr%10 and itr:\r\n",
        "            print(\"Completed {} iterations, loss = {}\".format(itr, np.squeeze(J))) \r\n",
        "        loss.append(J)\r\n",
        "    J = float(J)\r\n",
        "    return J, theta, loss\r\n",
        "\r\n",
        "# extracting features and storing them in matrix\r\n",
        "# 1st feature: no. of +ve words in tweet\r\n",
        "# 2nd: no. of -ve words\r\n",
        "def extract_features(tweet, freqs):\r\n",
        "   \r\n",
        "    word_l = process_tweet(tweet)\r\n",
        "    \r\n",
        "    # 3 elements in the form of a 1 x 3 vector\r\n",
        "    x = np.zeros((1, 3)) \r\n",
        "    \r\n",
        "    #bias term = 1\r\n",
        "    x[0,0] = 1 \r\n",
        "    \r\n",
        "    \r\n",
        "    # loop through each word \r\n",
        "    for word in word_l:\r\n",
        "        pos_pair = (word, 1.0)\r\n",
        "        neg_pair = (word, 0.0)\r\n",
        "        if pos_pair in freqs.keys():\r\n",
        "            # increment the word count for the positive label 1\r\n",
        "            x[0,1] += freqs[pos_pair]\r\n",
        "        if neg_pair in freqs.keys():\r\n",
        "            # increment the word count for the negative label 0\r\n",
        "            x[0,2] += freqs[neg_pair]\r\n",
        "        \r\n",
        "        \r\n",
        "    assert(x.shape == (1, 3))\r\n",
        "    return x\r\n",
        "\r\n",
        "\r\n",
        "def predict_tweet(tweet, freqs, theta):\r\n",
        "    \r\n",
        "    # extract the features of the tweet and store it into x\r\n",
        "    x = extract_features(tweet, freqs)\r\n",
        "    \r\n",
        "    # make the prediction using x and theta\r\n",
        "    y_pred = sigmoid(np.dot(x, theta))\r\n",
        "    \r\n",
        "    \r\n",
        "    return y_pred\r\n",
        "\r\n",
        "\r\n",
        "def test_logistic_regression(test_x, test_y, freqs, theta):\r\n",
        "    \r\n",
        "    # the list for storing predictions\r\n",
        "    y_hat = []\r\n",
        "    m = test_y.shape[0]\r\n",
        "    for tweet in test_x:\r\n",
        "        # get the label prediction for the tweet\r\n",
        "        y_pred = predict_tweet(tweet, freqs, theta)\r\n",
        "        \r\n",
        "        if y_pred > 0.5:\r\n",
        "            # append 1.0 to the list\r\n",
        "            y_hat.append(1)\r\n",
        "        else:\r\n",
        "            # append 0 to the list\r\n",
        "            y_hat.append(0)\r\n",
        "\r\n",
        "   \r\n",
        "   \r\n",
        "    y_hat = np.array(y_hat)\r\n",
        "    y_hat = np.reshape(y_hat, (m, 1))\r\n",
        "    accuracy = np.sum(y_hat == test_y)/m\r\n",
        "    \r\n",
        "    return accuracy\r\n"
      ],
      "execution_count": 33,
      "outputs": []
    },
    {
      "cell_type": "code",
      "metadata": {
        "id": "sdKfibKg0db3"
      },
      "source": [
        "X = np.zeros((len(train_x), 3))\r\n",
        "for i in range(len(train_x)):\r\n",
        "    X[i, :]= extract_features(train_x[i], freqs)\r\n",
        " \r\n",
        "\r\n",
        "Y = train_y"
      ],
      "execution_count": 34,
      "outputs": []
    },
    {
      "cell_type": "code",
      "metadata": {
        "id": "LbDWf-940gNU"
      },
      "source": [
        "Y = np.reshape(Y, (-1,1))"
      ],
      "execution_count": 35,
      "outputs": []
    },
    {
      "cell_type": "code",
      "metadata": {
        "id": "qU8TQ87-0hv-"
      },
      "source": [
        "# shuffle data\r\n",
        "s = np.random.permutation(range(len(X)))\r\n",
        "X = X[s]\r\n",
        "Y = Y[s]"
      ],
      "execution_count": 36,
      "outputs": []
    },
    {
      "cell_type": "code",
      "metadata": {
        "colab": {
          "base_uri": "https://localhost:8080/"
        },
        "id": "74q9LKNN0jLW",
        "outputId": "bcd1950c-792e-4e27-8659-dd7ffbe1cc5e"
      },
      "source": [
        "J, theta, loss_logs = StochasticGradientDescent(X, Y, theta = np.zeros((3, 1)), alpha=1e-9, num_iters=100, batch_per_itr=50, batch_size=100000) \r\n",
        "print(f\"The cost after traill ning is {J:.8f}.\")\r\n",
        "print(f\"The resulting vector of weights is {[round(t, 8) for t in np.squeeze(theta)]}\")"
      ],
      "execution_count": 37,
      "outputs": [
        {
          "output_type": "stream",
          "text": [
            "Completed 10 iterations, loss = 0.3836000102463794\n",
            "Completed 20 iterations, loss = 0.37570521464560797\n",
            "Completed 30 iterations, loss = 0.37406113769016247\n",
            "Completed 40 iterations, loss = 0.3751947890563034\n",
            "Completed 50 iterations, loss = 0.37197755133549854\n",
            "Completed 60 iterations, loss = 0.36909026635030856\n",
            "Completed 70 iterations, loss = 0.37007581584900284\n",
            "Completed 80 iterations, loss = 0.36876682235182945\n",
            "Completed 90 iterations, loss = 0.3669979986519137\n",
            "The cost after traill ning is 0.36758165.\n",
            "The resulting vector of weights is [0.00016798, 0.01271524, -0.00690057]\n"
          ],
          "name": "stdout"
        }
      ]
    },
    {
      "cell_type": "code",
      "metadata": {
        "colab": {
          "base_uri": "https://localhost:8080/",
          "height": 279
        },
        "id": "EVLkHBAK0lzo",
        "outputId": "2d3c68b7-d742-449f-ce74-308fb115672b"
      },
      "source": [
        "plt.plot(np.squeeze(loss_logs))\r\n",
        "plt.xlabel(\"Iteration\")\r\n",
        "plt.ylabel(\"Loss\")\r\n",
        "plt.show()"
      ],
      "execution_count": 38,
      "outputs": [
        {
          "output_type": "display_data",
          "data": {
            "image/png": "[encoded data removed]",
            "text/plain": [
              "<Figure size 432x288 with 1 Axes>"
            ]
          },
          "metadata": {
            "tags": []
          }
        }
      ]
    },
    {
      "cell_type": "code",
      "metadata": {
        "colab": {
          "base_uri": "https://localhost:8080/"
        },
        "id": "Fesrudzz0oC3",
        "outputId": "431457ef-3f7e-440c-c794-886e7df8e4da"
      },
      "source": [
        "tmp_accuracy = test_logistic_regression(test_x, np.reshape(test_y, (-1,1)), freqs, theta)\r\n",
        "print(tmp_accuracy)"
      ],
      "execution_count": 56,
      "outputs": [
        {
          "output_type": "stream",
          "text": [
            "0.9130434782608695\n"
          ],
          "name": "stdout"
        }
      ]
    },
    {
      "cell_type": "code",
      "metadata": {
        "colab": {
          "base_uri": "https://localhost:8080/"
        },
        "id": "OiDiwoKT0qPT",
        "outputId": "fc04f48c-9e1f-46f0-f56c-5e3823ae1e0e"
      },
      "source": [
        "# example\r\n",
        "my_tweet = 'This is a ridiculously bright movie. The plot was terrible and I was sad until the ending!'\r\n",
        "print(process_tweet(my_tweet))\r\n",
        "y_hat = predict_tweet(my_tweet, freqs, theta)\r\n",
        "print(y_hat)\r\n",
        "if y_hat > 0.5:\r\n",
        "    print('Positive sentiment')\r\n",
        "else: \r\n",
        "    print('Negative sentiment')"
      ],
      "execution_count": 40,
      "outputs": [
        {
          "output_type": "stream",
          "text": [
            "['ridicul', 'bright', 'movi', 'plot', 'terribl', 'sad', 'end']\n",
            "[[0.49831686]]\n",
            "Negative sentiment\n"
          ],
          "name": "stdout"
        }
      ]
    },
    {
      "cell_type": "code",
      "metadata": {
        "colab": {
          "base_uri": "https://localhost:8080/"
        },
        "id": "eGG_DMb41IZm",
        "outputId": "0572ccb0-7b46-41e2-9dc6-d7f0c0c6e4bd"
      },
      "source": [
        "my_tweet =  processing()\r\n",
        "print(my_tweet)\r\n",
        "y_hat = predict_tweet(my_tweet, freqs, theta)\r\n",
        "print(y_hat)\r\n",
        "if y_hat > 0.5:\r\n",
        "    print('Positive sentiment')\r\n",
        "else: \r\n",
        "    print('Negative sentiment')\r\n"
      ],
      "execution_count": 41,
      "outputs": [
        {
          "output_type": "stream",
          "text": [
            "downloading\n",
            "Downloaded 1 tweets\n",
            "Downloaded 1 tweets , saved to newFile.txt\n",
            " The tweet is: \n",
            "b'RT @vegsource: I am afraid COVID-19 has exposed the vaccine business for what it is: greed-driven, profit-driven, dishonest pusher of unsaf\\xe2\\x80\\xa6'\n",
            "\n",
            "B'RT I AM AFRAID COVID-19 HAS EXPOSED THE VACCINE BUSINESS FOR WHAT IT IS: GREED-DRIVEN, PROFIT-DRIVEN, DISHONEST PUSHER OF UNSAF\\XE2\\X80\\XA6'\n",
            "[[0.50785264]]\n",
            "Positive sentiment\n"
          ],
          "name": "stdout"
        }
      ]
    },
    {
      "cell_type": "code",
      "metadata": {
        "colab": {
          "base_uri": "https://localhost:8080/"
        },
        "id": "D6tykWu_fAOS",
        "outputId": "be8bbf83-484e-4098-b7ff-8f245c7af930"
      },
      "source": [
        "def logistic_classifier():\r\n",
        "  my_tweet =  processing()\r\n",
        "  print(my_tweet)\r\n",
        "  y_hat = predict_tweet(my_tweet, freqs, theta)\r\n",
        "  print(y_hat)\r\n",
        "  if y_hat > 0.5:\r\n",
        "      print('Positive sentiment')\r\n",
        "  else: \r\n",
        "      print('Negative sentiment')\r\n",
        "\r\n",
        "print(\"CLASSIFICATION USING LOGISTIC REGRESSION:\")\r\n",
        "logistic_classifier()"
      ],
      "execution_count": 47,
      "outputs": [
        {
          "output_type": "stream",
          "text": [
            "CLASSIFICATION USING LOGISTIC REGRESSION:\n",
            "downloading\n",
            "no more tweets found\n",
            "Downloaded 0 tweets , saved to newFile.txt\n",
            " The tweet is: \n",
            "\n",
            "\n",
            "[[0.50004199]]\n",
            "Positive sentiment\n"
          ],
          "name": "stdout"
        }
      ]
    },
    {
      "cell_type": "markdown",
      "metadata": {
        "id": "_fitnK5HPy97"
      },
      "source": [
        "# **MAIN**"
      ]
    },
    {
      "cell_type": "code",
      "metadata": {
        "id": "VvAQaAGF3yc1"
      },
      "source": [
        "#################\r\n",
        "# extract tweets:\r\n",
        "# extraction()\r\n",
        "\r\n",
        "# preprocessing:\r\n",
        "# processing()\r\n",
        "\r\n",
        "# naive bayes classification\r\n",
        "# naive_classifer()\r\n",
        "\r\n",
        "# logistic regression classifier\r\n",
        "# logistic_classifier()"
      ],
      "execution_count": 52,
      "outputs": []
    },
    {
      "cell_type": "code",
      "metadata": {
        "colab": {
          "base_uri": "https://localhost:8080/"
        },
        "id": "TfK2s-2rP336",
        "outputId": "339df84a-a349-478c-dce9-26d977048b71"
      },
      "source": [
        "import time\r\n",
        "\r\n",
        "def calling():\r\n",
        "    for counter in range(2):\r\n",
        "        # extraction()\r\n",
        "        # processing()\r\n",
        "        naive_classifier()\r\n",
        "        print(\"======================================================\")\r\n",
        "        logistic_classifier()\r\n",
        "        print(\"======================================================\")\r\n",
        "        print(\"======================================================\")\r\n",
        "        time.sleep(20)\r\n",
        "\r\n",
        "if __name__ == \"__main__\":\r\n",
        "    calling()"
      ],
      "execution_count": 54,
      "outputs": [
        {
          "output_type": "stream",
          "text": [
            "downloading\n",
            "Downloaded 1 tweets\n",
            "Downloaded 1 tweets , saved to newFile.txt\n",
            " The tweet is: \n",
            "b'RT @CNN: A growing group of people who get sick with Covid-19 never fully recover. In support groups, they sometimes refer to themselves as\\xe2\\x80\\xa6'\n",
            "\n",
            "CLASSIFICATION USING NAIVE BAYES\n",
            "[0]\n",
            "======================================================\n",
            "downloading\n",
            "Downloaded 1 tweets\n",
            "Downloaded 1 tweets , saved to newFile.txt\n",
            " The tweet is: \n",
            "b'RT @CNN: A growing group of people who get sick with Covid-19 never fully recover. In support groups, they sometimes refer to themselves as\\xe2\\x80\\xa6'\n",
            "\n",
            "B'RT A GROWING GROUP OF PEOPLE WHO GET SICK WITH COVID-19 NEVER FULLY RECOVER. IN SUPPORT GROUPS, THEY SOMETIMES REFER TO THEMSELVES AS\\XE2\\X80\\XA6'\n",
            "[[0.52200796]]\n",
            "Positive sentiment\n",
            "======================================================\n",
            "======================================================\n",
            "downloading\n",
            "Downloaded 1 tweets\n",
            "Downloaded 1 tweets , saved to newFile.txt\n",
            " The tweet is: \n",
            "b'RT @_ThomasRoyalty: Due to COVID-19, my company reduced our hours to 20 hours a week. I\\xe2\\x80\\x99m a little short on cash for bills and groceries, i\\xe2\\x80\\xa6'\n",
            "\n",
            "CLASSIFICATION USING NAIVE BAYES\n",
            "[0]\n",
            "======================================================\n",
            "downloading\n",
            "Downloaded 1 tweets\n",
            "Downloaded 1 tweets , saved to newFile.txt\n",
            " The tweet is: \n",
            "b'RT @_ThomasRoyalty: Due to COVID-19, my company reduced our hours to 20 hours a week. I\\xe2\\x80\\x99m a little short on cash for bills and groceries, i\\xe2\\x80\\xa6'\n",
            "\n",
            "B'RT DUE TO COVID-19, MY COMPANY REDUCED OUR HOURS TO 20 HOURS A WEEK. I\\XE2\\X80\\X99M A LITTLE SHORT ON CASH FOR BILLS AND GROCERIES, I\\XE2\\X80\\XA6'\n",
            "[[0.5110303]]\n",
            "Positive sentiment\n",
            "======================================================\n",
            "======================================================\n"
          ],
          "name": "stdout"
        }
      ]
    }
  ]
}